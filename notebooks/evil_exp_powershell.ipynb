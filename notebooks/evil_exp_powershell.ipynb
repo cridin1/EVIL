{
  "nbformat": 4,
  "nbformat_minor": 0,
  "metadata": {
    "colab": {
      "provenance": [],
      "gpuType": "T4"
    },
    "kernelspec": {
      "name": "python3",
      "display_name": "Python 3"
    },
    "language_info": {
      "name": "python"
    },
    "accelerator": "GPU"
  },
  "cells": [
    {
      "cell_type": "markdown",
      "source": [
        "#Setup"
      ],
      "metadata": {
        "id": "j9eOGcmk9bNA"
      }
    },
    {
      "cell_type": "code",
      "execution_count": null,
      "metadata": {
        "id": "2_LK8yLEo1Cr"
      },
      "outputs": [],
      "source": [
        "!git clone https://github.com/cridin1/EVIL.git"
      ]
    },
    {
      "cell_type": "markdown",
      "source": [
        "##Updated dependencies for GPU Environment\n",
        "\n",
        "\n",
        "requirements_gpu.txt\n",
        "```\n",
        "librosa\n",
        "Sphinx\n",
        "sphinxcontrib-napoleon\n",
        "docopt\n",
        "graphviz\n",
        "sentencepiece\n",
        "unidecode\n",
        "tensorflow\n",
        "pylru\n",
        "transformers\n",
        "bigcode-astgen\n",
        "bigcode-embeddings\n",
        "bigcode-fetcher\n",
        "words2num\n",
        "num2words\n",
        "dask>=0.15\n",
        "nltk\n",
        "astor\n",
        "asteval\n",
        "filelock\n",
        "more_itertools\n",
        "gdown\n",
        "tensorboardX\n",
        "```\n",
        "\n"
      ],
      "metadata": {
        "id": "wUGRI4We9JLa"
      }
    },
    {
      "cell_type": "code",
      "source": [
        "!pip install -r /content/EVIL/requirements_gpu.txt"
      ],
      "metadata": {
        "id": "lwrkPu7L9iWf"
      },
      "execution_count": null,
      "outputs": []
    },
    {
      "cell_type": "code",
      "source": [
        "!pip install tensorrt"
      ],
      "metadata": {
        "colab": {
          "base_uri": "https://localhost:8080/"
        },
        "id": "ETmOe3nmnktI",
        "outputId": "29d0ff16-0ed5-4e18-bad4-25d649ef8e25"
      },
      "execution_count": 3,
      "outputs": [
        {
          "output_type": "stream",
          "name": "stdout",
          "text": [
            "Collecting tensorrt\n",
            "  Using cached tensorrt-8.6.1.post1.tar.gz (18 kB)\n",
            "  Preparing metadata (setup.py) ... \u001b[?25l\u001b[?25hdone\n",
            "Building wheels for collected packages: tensorrt\n",
            "  Building wheel for tensorrt (setup.py) ... \u001b[?25l\u001b[?25hdone\n",
            "  Created wheel for tensorrt: filename=tensorrt-8.6.1.post1-py2.py3-none-any.whl size=17281 sha256=b0af99cb9f182389b0c9dca1d8ec3789e0918df268e960a1c9c7207db34b8851\n",
            "  Stored in directory: /root/.cache/pip/wheels/f4/c8/0e/b79b08e45752491b9acfdbd69e8a609e8b2ed7640dda5a3e59\n",
            "Successfully built tensorrt\n",
            "Installing collected packages: tensorrt\n",
            "Successfully installed tensorrt-8.6.1.post1\n"
          ]
        }
      ]
    },
    {
      "cell_type": "markdown",
      "source": [
        "##Checking the GPU setup"
      ],
      "metadata": {
        "id": "6qb-cKGp9mEf"
      }
    },
    {
      "cell_type": "code",
      "source": [
        "!nvidia-smi"
      ],
      "metadata": {
        "colab": {
          "base_uri": "https://localhost:8080/"
        },
        "id": "qPJEWMnEu3ZQ",
        "outputId": "beeaaed7-c08e-49ab-aa03-f5f6fd49c8fc"
      },
      "execution_count": 4,
      "outputs": [
        {
          "output_type": "stream",
          "name": "stdout",
          "text": [
            "Fri Oct  6 10:54:21 2023       \n",
            "+-----------------------------------------------------------------------------+\n",
            "| NVIDIA-SMI 525.105.17   Driver Version: 525.105.17   CUDA Version: 12.0     |\n",
            "|-------------------------------+----------------------+----------------------+\n",
            "| GPU  Name        Persistence-M| Bus-Id        Disp.A | Volatile Uncorr. ECC |\n",
            "| Fan  Temp  Perf  Pwr:Usage/Cap|         Memory-Usage | GPU-Util  Compute M. |\n",
            "|                               |                      |               MIG M. |\n",
            "|===============================+======================+======================|\n",
            "|   0  Tesla T4            Off  | 00000000:00:04.0 Off |                    0 |\n",
            "| N/A   50C    P8     9W /  70W |      0MiB / 15360MiB |      0%      Default |\n",
            "|                               |                      |                  N/A |\n",
            "+-------------------------------+----------------------+----------------------+\n",
            "                                                                               \n",
            "+-----------------------------------------------------------------------------+\n",
            "| Processes:                                                                  |\n",
            "|  GPU   GI   CI        PID   Type   Process name                  GPU Memory |\n",
            "|        ID   ID                                                   Usage      |\n",
            "|=============================================================================|\n",
            "|  No running processes found                                                 |\n",
            "+-----------------------------------------------------------------------------+\n"
          ]
        }
      ]
    },
    {
      "cell_type": "code",
      "source": [
        "import tensorrt as trt\n",
        "import tensorflow as tf;\n",
        "print(tf.config.list_physical_devices('GPU'))"
      ],
      "metadata": {
        "colab": {
          "base_uri": "https://localhost:8080/"
        },
        "id": "2LbqWk5RyxnC",
        "outputId": "e1dff62c-2d18-412c-f5e2-e87678df7f3d"
      },
      "execution_count": 5,
      "outputs": [
        {
          "output_type": "stream",
          "name": "stdout",
          "text": [
            "[PhysicalDevice(name='/physical_device:GPU:0', device_type='GPU')]\n"
          ]
        }
      ]
    },
    {
      "cell_type": "code",
      "source": [
        "from tensorflow.python.client import device_lib\n",
        "\n",
        "def check_tensor_core_gpu_present():\n",
        "    local_device_protos = device_lib.list_local_devices()\n",
        "    for line in local_device_protos:\n",
        "        if \"compute capability\" in str(line):\n",
        "            compute_capability = float(line.physical_device_desc.split(\"compute capability: \")[-1])\n",
        "            if compute_capability>=7.0:\n",
        "                return True\n",
        "\n",
        "print(\"Tensor Core GPU Present:\", check_tensor_core_gpu_present())\n",
        "tensor_core_gpu = check_tensor_core_gpu_present()"
      ],
      "metadata": {
        "colab": {
          "base_uri": "https://localhost:8080/"
        },
        "id": "ESh0whapyKve",
        "outputId": "f6180f7a-8613-4f25-d888-948d23805877"
      },
      "execution_count": 6,
      "outputs": [
        {
          "output_type": "stream",
          "name": "stdout",
          "text": [
            "Tensor Core GPU Present: True\n"
          ]
        }
      ]
    },
    {
      "cell_type": "markdown",
      "source": [
        "##Install Natural Language tools"
      ],
      "metadata": {
        "id": "Ch1VpZxV9qBH"
      }
    },
    {
      "cell_type": "code",
      "source": [
        "import nltk\n",
        "nltk.download(\"all\")"
      ],
      "metadata": {
        "id": "rWed0Mjl3Zmc"
      },
      "execution_count": null,
      "outputs": []
    },
    {
      "cell_type": "code",
      "source": [
        "!python -m spacy download en_core_web_lg"
      ],
      "metadata": {
        "id": "k4WBETOE3gn4"
      },
      "execution_count": null,
      "outputs": []
    },
    {
      "cell_type": "markdown",
      "source": [
        "#Running Experiments"
      ],
      "metadata": {
        "id": "NurwoVJn96GG"
      }
    },
    {
      "cell_type": "code",
      "source": [
        "from google.colab import drive\n",
        "drive.mount('/gdrive')"
      ],
      "metadata": {
        "id": "1gKOBfCUowqL"
      },
      "execution_count": null,
      "outputs": []
    },
    {
      "cell_type": "code",
      "source": [
        "%cd /content/EVIL\n",
        "!bash ./CodeBERT_Launch.sh 0 3 2 \"/gdrive/MyDrive/script_tesi_magistrale/3P\""
      ],
      "metadata": {
        "id": "oGgRvqFk1Kdo",
        "colab": {
          "base_uri": "https://localhost:8080/"
        },
        "outputId": "eb4ca614-4799-4269-a156-744e6a1aef95"
      },
      "execution_count": 11,
      "outputs": [
        {
          "output_type": "stream",
          "name": "stdout",
          "text": [
            "/content/EVIL\n",
            " ________      _______ _      \n",
            "|  ____\\ \\    / /_   _| |     \n",
            "| |__   \\ \\  / /  | | | |     \n",
            "|  __|   \\ \\/ /   | | | |     \n",
            "| |____   \\  /   _| |_| |____ \n",
            "|______|   \\/   |_____|______|\n",
            "Welcome to EVIL's Launcher!\n",
            "Checking if pretrained models are installed...\n",
            "Found properly installed Pretrained models!\n",
            "2023-10-06 10:57:48.836964  Local machine selected\n",
            "2023-10-06 10:57:48.837854  Powershell dataset selected\n",
            "2023-10-06 10:57:48.838771  Preprocessing with Intent Parser (IP) selected\n",
            "2023-10-06 10:57:48.839692  Processing the selected dataset...\n",
            "Dataset path setted with: /gdrive/MyDrive/script_tesi_magistrale/3P\n",
            "2023-10-06 10:57:48.845709  You selected the Powershell dataset\n",
            "2023-10-06 10:57:48.846509  Converting and moving the dataset ...\n",
            "Done!\n",
            "Done!\n",
            "Done!\n",
            "2023-10-06 10:57:54.363809  Extracting raw data ...\n",
            "2023-10-06 10:58:01.348033: W tensorflow/compiler/tf2tensorrt/utils/py_utils.cc:38] TF-TRT Warning: Could not find TensorRT\n",
            "Setting preprocessing pipeline\n",
            "extracting to_parse file powershell-train.json\n",
            "............................................................................................................................................................................................................................................................................................................................................................................................................................................................................................................................................................................................................................................................................................Number of snippets in the set: 681\n",
            "Number of snippets that failed to be tokenized: 0\n",
            "% failed is: 0.0\n",
            "Number of snippets that failed to compile in Python: 0\n",
            "% snippets that do not compile: 0.0\n",
            "Number of total intent tokens in the set: 5869\n",
            "Number of total snippet tokens in the set: 8649\n",
            "\n",
            "\n",
            "Number of unique intent statements in the set: 681\n",
            "Number of unique snippet statements  in the set: 681\n",
            "\n",
            "\n",
            "Number of unique intent tokens in the set: 792\n",
            "Number of unique snippet tokens in the set: 1506\n",
            "\n",
            "\n",
            "Average number of intent tokens per statement: 8.61820851688693\n",
            "Average number of snippet tokens per statement: 12.700440528634362\n",
            "extracting to_parse file powershell-dev.json\n",
            ".....................................................................................Number of snippets in the set: 766\n",
            "Number of snippets that failed to be tokenized: 0\n",
            "% failed is: 0.0\n",
            "Number of snippets that failed to compile in Python: 0\n",
            "% snippets that do not compile: 0.0\n",
            "Number of total intent tokens in the set: 6592\n",
            "Number of total snippet tokens in the set: 9743\n",
            "\n",
            "\n",
            "Number of unique intent statements in the set: 766\n",
            "Number of unique snippet statements  in the set: 766\n",
            "\n",
            "\n",
            "Number of unique intent tokens in the set: 845\n",
            "Number of unique snippet tokens in the set: 1633\n",
            "\n",
            "\n",
            "Average number of intent tokens per statement: 8.605744125326371\n",
            "Average number of snippet tokens per statement: 12.719321148825065\n",
            "extracting to_parse file powershell-test.json\n",
            "...................................................................................Number of snippets in the set: 851\n",
            "Number of snippets that failed to be tokenized: 0\n",
            "% failed is: 0.0\n",
            "Number of snippets that failed to compile in Python: 0\n",
            "% snippets that do not compile: 0.0\n",
            "Number of total intent tokens in the set: 7355\n",
            "Number of total snippet tokens in the set: 10818\n",
            "\n",
            "\n",
            "Number of unique intent statements in the set: 851\n",
            "Number of unique snippet statements  in the set: 851\n",
            "\n",
            "\n",
            "Number of unique intent tokens in the set: 900\n",
            "Number of unique snippet tokens in the set: 1758\n",
            "\n",
            "\n",
            "Average number of intent tokens per statement: 8.642773207990599\n",
            "Average number of snippet tokens per statement: 12.712103407755581\n",
            "2023-10-06 10:58:24.014484  Preprocessing ...\n",
            "loading from: powershell-train.json.seq2seq\n",
            "loading from: powershell-test.json.seq2seq\n",
            "loading from: powershell-dev.json.seq2seq\n",
            "Done!\n",
            "2023-10-06 10:58:24.139561  Running fine_tune.sh...\n",
            "Powershell dataset selected\n",
            "10/06/2023 10:58:26 - INFO - __main__ -   Namespace(model_type='roberta', model_name_or_path='pretrained_models/pytorch_model.bin', tokenizer_name='roberta-base', output_dir='finetuned_model/powershell', load_model_path=None, train_filename='../processed_dataset//powershell-train.json.seq2seq', dev_filename='../processed_dataset//powershell-dev.json.seq2seq', test_filename=None, config_name='roberta-base', max_source_length=256, max_target_length=128, do_train=True, do_eval=True, do_test=False, do_lower_case=False, no_cuda=False, train_batch_size=8, eval_batch_size=8, gradient_accumulation_steps=1, learning_rate=5e-05, beam_size=10, weight_decay=0.0, adam_epsilon=1e-08, max_grad_norm=1.0, num_train_epochs=3.0, max_steps=-1, eval_steps=320, train_steps=2800, warmup_steps=0, local_rank=-1, seed=42, nl2code=True)\n",
            "10/06/2023 10:58:26 - WARNING - __main__ -   Process rank: -1, device: cuda, n_gpu: 1, distributed training: False\n",
            "10/06/2023 10:58:32 - INFO - __main__ -   train set size: 681\n",
            "10/06/2023 10:58:32 - INFO - __main__ -   *** Example ***\n",
            "10/06/2023 10:58:32 - INFO - __main__ -   idx: 0\n",
            "10/06/2023 10:58:32 - INFO - __main__ -   source_tokens: ['<s>', 'A', '_var', '0', '_script', '_containing', '_code', '_to', '_execute', '_var', '2', '_var', '3', '_(', '_calc', '.', 'exe', '_)', '_remotely', '_using', '_var', '0', '</s>']\n",
            "10/06/2023 10:58:32 - INFO - __main__ -   source_ids: 0 250 15747 288 8543 8200 3260 7 11189 15747 176 15747 246 36 43916 4 45911 4839 18684 634 15747 288 2 1 1 1 1 1 1 1 1 1 1 1 1 1 1 1 1 1 1 1 1 1 1 1 1 1 1 1 1 1 1 1 1 1 1 1 1 1 1 1 1 1 1 1 1 1 1 1 1 1 1 1 1 1 1 1 1 1 1 1 1 1 1 1 1 1 1 1 1 1 1 1 1 1 1 1 1 1 1 1 1 1 1 1 1 1 1 1 1 1 1 1 1 1 1 1 1 1 1 1 1 1 1 1 1 1 1 1 1 1 1 1 1 1 1 1 1 1 1 1 1 1 1 1 1 1 1 1 1 1 1 1 1 1 1 1 1 1 1 1 1 1 1 1 1 1 1 1 1 1 1 1 1 1 1 1 1 1 1 1 1 1 1 1 1 1 1 1 1 1 1 1 1 1 1 1 1 1 1 1 1 1 1 1 1 1 1 1 1 1 1 1 1 1 1 1 1 1 1 1 1 1 1 1 1 1 1 1 1 1 1 1 1 1 1 1 1 1 1 1 1 1 1 1 1 1 1 1 1 1 1 1 1 1\n",
            "10/06/2023 10:58:32 - INFO - __main__ -   source_mask: 1 1 1 1 1 1 1 1 1 1 1 1 1 1 1 1 1 1 1 1 1 1 1 0 0 0 0 0 0 0 0 0 0 0 0 0 0 0 0 0 0 0 0 0 0 0 0 0 0 0 0 0 0 0 0 0 0 0 0 0 0 0 0 0 0 0 0 0 0 0 0 0 0 0 0 0 0 0 0 0 0 0 0 0 0 0 0 0 0 0 0 0 0 0 0 0 0 0 0 0 0 0 0 0 0 0 0 0 0 0 0 0 0 0 0 0 0 0 0 0 0 0 0 0 0 0 0 0 0 0 0 0 0 0 0 0 0 0 0 0 0 0 0 0 0 0 0 0 0 0 0 0 0 0 0 0 0 0 0 0 0 0 0 0 0 0 0 0 0 0 0 0 0 0 0 0 0 0 0 0 0 0 0 0 0 0 0 0 0 0 0 0 0 0 0 0 0 0 0 0 0 0 0 0 0 0 0 0 0 0 0 0 0 0 0 0 0 0 0 0 0 0 0 0 0 0 0 0 0 0 0 0 0 0 0 0 0 0 0 0 0 0 0 0 0 0 0 0 0 0 0 0 0 0 0 0\n",
            "10/06/2023 10:58:32 - INFO - __main__ -   target_tokens: ['<s>', '$', '_code', '_=', '_{', '_#', '_malicious', '_code', '_Inv', 'oke', '-', 'Exp', 'ression', '_-', 'Command', '_``', '_var', '4', \"_''\", '_}', '_Inv', 'oke', '-', 'Command', '_-', 'Script', 'Block', '_$', '_code', '</s>']\n",
            "10/06/2023 10:58:32 - INFO - __main__ -   target_ids: 0 1629 3260 5457 25522 849 15237 3260 9318 5361 12 39891 21791 111 46785 45518 15747 306 12801 35524 9318 5361 12 46785 111 30276 38866 68 3260 2 1 1 1 1 1 1 1 1 1 1 1 1 1 1 1 1 1 1 1 1 1 1 1 1 1 1 1 1 1 1 1 1 1 1 1 1 1 1 1 1 1 1 1 1 1 1 1 1 1 1 1 1 1 1 1 1 1 1 1 1 1 1 1 1 1 1 1 1 1 1 1 1 1 1 1 1 1 1 1 1 1 1 1 1 1 1 1 1 1 1 1 1 1 1 1 1 1 1\n",
            "10/06/2023 10:58:32 - INFO - __main__ -   target_mask: 1 1 1 1 1 1 1 1 1 1 1 1 1 1 1 1 1 1 1 1 1 1 1 1 1 1 1 1 1 1 0 0 0 0 0 0 0 0 0 0 0 0 0 0 0 0 0 0 0 0 0 0 0 0 0 0 0 0 0 0 0 0 0 0 0 0 0 0 0 0 0 0 0 0 0 0 0 0 0 0 0 0 0 0 0 0 0 0 0 0 0 0 0 0 0 0 0 0 0 0 0 0 0 0 0 0 0 0 0 0 0 0 0 0 0 0 0 0 0 0 0 0 0 0 0 0 0 0\n",
            "10/06/2023 10:58:32 - INFO - __main__ -   *** Example ***\n",
            "10/06/2023 10:58:32 - INFO - __main__ -   idx: 1\n",
            "10/06/2023 10:58:32 - INFO - __main__ -   source_tokens: ['<s>', 'Administ', 'rator', '_privileges', '_is', '_var', '0', '_to', '_var', '1', '_custom', '_user', '</s>']\n",
            "10/06/2023 10:58:32 - INFO - __main__ -   source_ids: 0 45597 24362 24073 16 15747 288 7 15747 134 6777 3018 2 1 1 1 1 1 1 1 1 1 1 1 1 1 1 1 1 1 1 1 1 1 1 1 1 1 1 1 1 1 1 1 1 1 1 1 1 1 1 1 1 1 1 1 1 1 1 1 1 1 1 1 1 1 1 1 1 1 1 1 1 1 1 1 1 1 1 1 1 1 1 1 1 1 1 1 1 1 1 1 1 1 1 1 1 1 1 1 1 1 1 1 1 1 1 1 1 1 1 1 1 1 1 1 1 1 1 1 1 1 1 1 1 1 1 1 1 1 1 1 1 1 1 1 1 1 1 1 1 1 1 1 1 1 1 1 1 1 1 1 1 1 1 1 1 1 1 1 1 1 1 1 1 1 1 1 1 1 1 1 1 1 1 1 1 1 1 1 1 1 1 1 1 1 1 1 1 1 1 1 1 1 1 1 1 1 1 1 1 1 1 1 1 1 1 1 1 1 1 1 1 1 1 1 1 1 1 1 1 1 1 1 1 1 1 1 1 1 1 1 1 1 1 1 1 1 1 1 1 1 1 1 1 1 1 1 1 1 1 1 1 1 1 1\n",
            "10/06/2023 10:58:32 - INFO - __main__ -   source_mask: 1 1 1 1 1 1 1 1 1 1 1 1 1 0 0 0 0 0 0 0 0 0 0 0 0 0 0 0 0 0 0 0 0 0 0 0 0 0 0 0 0 0 0 0 0 0 0 0 0 0 0 0 0 0 0 0 0 0 0 0 0 0 0 0 0 0 0 0 0 0 0 0 0 0 0 0 0 0 0 0 0 0 0 0 0 0 0 0 0 0 0 0 0 0 0 0 0 0 0 0 0 0 0 0 0 0 0 0 0 0 0 0 0 0 0 0 0 0 0 0 0 0 0 0 0 0 0 0 0 0 0 0 0 0 0 0 0 0 0 0 0 0 0 0 0 0 0 0 0 0 0 0 0 0 0 0 0 0 0 0 0 0 0 0 0 0 0 0 0 0 0 0 0 0 0 0 0 0 0 0 0 0 0 0 0 0 0 0 0 0 0 0 0 0 0 0 0 0 0 0 0 0 0 0 0 0 0 0 0 0 0 0 0 0 0 0 0 0 0 0 0 0 0 0 0 0 0 0 0 0 0 0 0 0 0 0 0 0 0 0 0 0 0 0 0 0 0 0 0 0 0 0 0 0 0 0\n",
            "10/06/2023 10:58:32 - INFO - __main__ -   target_tokens: ['<s>', 'Inv', 'oke', '-', 'R', 'ID', 'H', 'ij', 'acking', '_-', 'User', '_var', '1', '_-', 'R', 'ID', '_500', '</s>']\n",
            "10/06/2023 10:58:32 - INFO - __main__ -   target_ids: 0 42782 5361 12 500 2688 725 2161 7361 111 44518 15747 134 111 500 2688 1764 2 1 1 1 1 1 1 1 1 1 1 1 1 1 1 1 1 1 1 1 1 1 1 1 1 1 1 1 1 1 1 1 1 1 1 1 1 1 1 1 1 1 1 1 1 1 1 1 1 1 1 1 1 1 1 1 1 1 1 1 1 1 1 1 1 1 1 1 1 1 1 1 1 1 1 1 1 1 1 1 1 1 1 1 1 1 1 1 1 1 1 1 1 1 1 1 1 1 1 1 1 1 1 1 1 1 1 1 1 1 1\n",
            "10/06/2023 10:58:32 - INFO - __main__ -   target_mask: 1 1 1 1 1 1 1 1 1 1 1 1 1 1 1 1 1 1 0 0 0 0 0 0 0 0 0 0 0 0 0 0 0 0 0 0 0 0 0 0 0 0 0 0 0 0 0 0 0 0 0 0 0 0 0 0 0 0 0 0 0 0 0 0 0 0 0 0 0 0 0 0 0 0 0 0 0 0 0 0 0 0 0 0 0 0 0 0 0 0 0 0 0 0 0 0 0 0 0 0 0 0 0 0 0 0 0 0 0 0 0 0 0 0 0 0 0 0 0 0 0 0 0 0 0 0 0 0\n",
            "10/06/2023 10:58:32 - INFO - __main__ -   *** Example ***\n",
            "10/06/2023 10:58:32 - INFO - __main__ -   idx: 2\n",
            "10/06/2023 10:58:32 - INFO - __main__ -   source_tokens: ['<s>', 'Exec', 'uting', '_var', '0', '_commands', '_on', '_remote', '_machine', '</s>']\n",
            "10/06/2023 10:58:32 - INFO - __main__ -   source_ids: 0 46891 15024 15747 288 16388 15 6063 3563 2 1 1 1 1 1 1 1 1 1 1 1 1 1 1 1 1 1 1 1 1 1 1 1 1 1 1 1 1 1 1 1 1 1 1 1 1 1 1 1 1 1 1 1 1 1 1 1 1 1 1 1 1 1 1 1 1 1 1 1 1 1 1 1 1 1 1 1 1 1 1 1 1 1 1 1 1 1 1 1 1 1 1 1 1 1 1 1 1 1 1 1 1 1 1 1 1 1 1 1 1 1 1 1 1 1 1 1 1 1 1 1 1 1 1 1 1 1 1 1 1 1 1 1 1 1 1 1 1 1 1 1 1 1 1 1 1 1 1 1 1 1 1 1 1 1 1 1 1 1 1 1 1 1 1 1 1 1 1 1 1 1 1 1 1 1 1 1 1 1 1 1 1 1 1 1 1 1 1 1 1 1 1 1 1 1 1 1 1 1 1 1 1 1 1 1 1 1 1 1 1 1 1 1 1 1 1 1 1 1 1 1 1 1 1 1 1 1 1 1 1 1 1 1 1 1 1 1 1 1 1 1 1 1 1 1 1 1 1 1 1 1 1 1 1 1 1\n",
            "10/06/2023 10:58:32 - INFO - __main__ -   source_mask: 1 1 1 1 1 1 1 1 1 1 0 0 0 0 0 0 0 0 0 0 0 0 0 0 0 0 0 0 0 0 0 0 0 0 0 0 0 0 0 0 0 0 0 0 0 0 0 0 0 0 0 0 0 0 0 0 0 0 0 0 0 0 0 0 0 0 0 0 0 0 0 0 0 0 0 0 0 0 0 0 0 0 0 0 0 0 0 0 0 0 0 0 0 0 0 0 0 0 0 0 0 0 0 0 0 0 0 0 0 0 0 0 0 0 0 0 0 0 0 0 0 0 0 0 0 0 0 0 0 0 0 0 0 0 0 0 0 0 0 0 0 0 0 0 0 0 0 0 0 0 0 0 0 0 0 0 0 0 0 0 0 0 0 0 0 0 0 0 0 0 0 0 0 0 0 0 0 0 0 0 0 0 0 0 0 0 0 0 0 0 0 0 0 0 0 0 0 0 0 0 0 0 0 0 0 0 0 0 0 0 0 0 0 0 0 0 0 0 0 0 0 0 0 0 0 0 0 0 0 0 0 0 0 0 0 0 0 0 0 0 0 0 0 0 0 0 0 0 0 0 0 0 0 0 0 0\n",
            "10/06/2023 10:58:32 - INFO - __main__ -   target_tokens: ['<s>', 'Inv', 'oke', '-', 'Command', '_-', 'Computer', 'Name', '_<', '_remote', '_', 'host', '_>', '_-', 'Script', 'Block', '_{', '_<', '_command', '_>', '_}', '</s>']\n",
            "10/06/2023 10:58:32 - INFO - __main__ -   target_ids: 0 42782 5361 12 46785 111 45942 31723 28696 6063 1215 11438 8061 111 30276 38866 25522 28696 5936 8061 35524 2 1 1 1 1 1 1 1 1 1 1 1 1 1 1 1 1 1 1 1 1 1 1 1 1 1 1 1 1 1 1 1 1 1 1 1 1 1 1 1 1 1 1 1 1 1 1 1 1 1 1 1 1 1 1 1 1 1 1 1 1 1 1 1 1 1 1 1 1 1 1 1 1 1 1 1 1 1 1 1 1 1 1 1 1 1 1 1 1 1 1 1 1 1 1 1 1 1 1 1 1 1 1 1 1 1 1\n",
            "10/06/2023 10:58:32 - INFO - __main__ -   target_mask: 1 1 1 1 1 1 1 1 1 1 1 1 1 1 1 1 1 1 1 1 1 1 0 0 0 0 0 0 0 0 0 0 0 0 0 0 0 0 0 0 0 0 0 0 0 0 0 0 0 0 0 0 0 0 0 0 0 0 0 0 0 0 0 0 0 0 0 0 0 0 0 0 0 0 0 0 0 0 0 0 0 0 0 0 0 0 0 0 0 0 0 0 0 0 0 0 0 0 0 0 0 0 0 0 0 0 0 0 0 0 0 0 0 0 0 0 0 0 0 0 0 0 0 0 0 0 0 0\n",
            "10/06/2023 10:58:32 - INFO - __main__ -   *** Example ***\n",
            "10/06/2023 10:58:32 - INFO - __main__ -   idx: 3\n",
            "10/06/2023 10:58:32 - INFO - __main__ -   source_tokens: ['<s>', 'var', '0', '_var', '1', '_-', '_var', '3', '_user', '_var', '4', '_var', '0', '_var', '1', '_var', '5', '</s>']\n",
            "10/06/2023 10:58:32 - INFO - __main__ -   source_ids: 0 10806 288 15747 134 111 15747 246 3018 15747 306 15747 288 15747 134 15747 245 2 1 1 1 1 1 1 1 1 1 1 1 1 1 1 1 1 1 1 1 1 1 1 1 1 1 1 1 1 1 1 1 1 1 1 1 1 1 1 1 1 1 1 1 1 1 1 1 1 1 1 1 1 1 1 1 1 1 1 1 1 1 1 1 1 1 1 1 1 1 1 1 1 1 1 1 1 1 1 1 1 1 1 1 1 1 1 1 1 1 1 1 1 1 1 1 1 1 1 1 1 1 1 1 1 1 1 1 1 1 1 1 1 1 1 1 1 1 1 1 1 1 1 1 1 1 1 1 1 1 1 1 1 1 1 1 1 1 1 1 1 1 1 1 1 1 1 1 1 1 1 1 1 1 1 1 1 1 1 1 1 1 1 1 1 1 1 1 1 1 1 1 1 1 1 1 1 1 1 1 1 1 1 1 1 1 1 1 1 1 1 1 1 1 1 1 1 1 1 1 1 1 1 1 1 1 1 1 1 1 1 1 1 1 1 1 1 1 1 1 1 1 1 1 1 1 1 1 1 1 1 1 1 1 1 1 1 1 1\n",
            "10/06/2023 10:58:32 - INFO - __main__ -   source_mask: 1 1 1 1 1 1 1 1 1 1 1 1 1 1 1 1 1 1 0 0 0 0 0 0 0 0 0 0 0 0 0 0 0 0 0 0 0 0 0 0 0 0 0 0 0 0 0 0 0 0 0 0 0 0 0 0 0 0 0 0 0 0 0 0 0 0 0 0 0 0 0 0 0 0 0 0 0 0 0 0 0 0 0 0 0 0 0 0 0 0 0 0 0 0 0 0 0 0 0 0 0 0 0 0 0 0 0 0 0 0 0 0 0 0 0 0 0 0 0 0 0 0 0 0 0 0 0 0 0 0 0 0 0 0 0 0 0 0 0 0 0 0 0 0 0 0 0 0 0 0 0 0 0 0 0 0 0 0 0 0 0 0 0 0 0 0 0 0 0 0 0 0 0 0 0 0 0 0 0 0 0 0 0 0 0 0 0 0 0 0 0 0 0 0 0 0 0 0 0 0 0 0 0 0 0 0 0 0 0 0 0 0 0 0 0 0 0 0 0 0 0 0 0 0 0 0 0 0 0 0 0 0 0 0 0 0 0 0 0 0 0 0 0 0 0 0 0 0 0 0 0 0 0 0 0 0\n",
            "10/06/2023 10:58:32 - INFO - __main__ -   target_tokens: ['<s>', 'Connect', '-', 'Az', 'ure', 'var', '1', '_\\\\', 'n', '_$', '_user', 'pr', 'inc', 'ipal', 'name', '_=', '_``', '_#', '_{', '_user', 'pr', 'inc', 'ipal', 'name', '_}', \"_''\", '_\\\\', 'n', '_Remove', '-', 'Az', 'ure', 'AD', 'User', '_-', 'Object', 'Id', '_$', '_user', 'pr', 'inc', 'ipal', 'name', '</s>']\n",
            "10/06/2023 10:58:32 - INFO - __main__ -   target_ids: 0 31161 12 25165 2407 10806 134 44128 282 68 3018 4862 3976 32483 13650 5457 45518 849 25522 3018 4862 3976 32483 13650 35524 12801 44128 282 27336 12 25165 2407 2606 44518 111 46674 28081 68 3018 4862 3976 32483 13650 2 1 1 1 1 1 1 1 1 1 1 1 1 1 1 1 1 1 1 1 1 1 1 1 1 1 1 1 1 1 1 1 1 1 1 1 1 1 1 1 1 1 1 1 1 1 1 1 1 1 1 1 1 1 1 1 1 1 1 1 1 1 1 1 1 1 1 1 1 1 1 1 1 1 1 1 1 1 1 1 1 1 1 1 1\n",
            "10/06/2023 10:58:32 - INFO - __main__ -   target_mask: 1 1 1 1 1 1 1 1 1 1 1 1 1 1 1 1 1 1 1 1 1 1 1 1 1 1 1 1 1 1 1 1 1 1 1 1 1 1 1 1 1 1 1 1 0 0 0 0 0 0 0 0 0 0 0 0 0 0 0 0 0 0 0 0 0 0 0 0 0 0 0 0 0 0 0 0 0 0 0 0 0 0 0 0 0 0 0 0 0 0 0 0 0 0 0 0 0 0 0 0 0 0 0 0 0 0 0 0 0 0 0 0 0 0 0 0 0 0 0 0 0 0 0 0 0 0 0 0\n",
            "10/06/2023 10:58:32 - INFO - __main__ -   *** Example ***\n",
            "10/06/2023 10:58:32 - INFO - __main__ -   idx: 4\n",
            "10/06/2023 10:58:32 - INFO - __main__ -   source_tokens: ['<s>', 'Gener', 'ate', '_var', '0', '_for', '_process', '_var', '1', '_37', '42', '</s>']\n",
            "10/06/2023 10:58:32 - INFO - __main__ -   source_ids: 0 40025 877 15747 288 13 609 15747 134 2908 3714 2 1 1 1 1 1 1 1 1 1 1 1 1 1 1 1 1 1 1 1 1 1 1 1 1 1 1 1 1 1 1 1 1 1 1 1 1 1 1 1 1 1 1 1 1 1 1 1 1 1 1 1 1 1 1 1 1 1 1 1 1 1 1 1 1 1 1 1 1 1 1 1 1 1 1 1 1 1 1 1 1 1 1 1 1 1 1 1 1 1 1 1 1 1 1 1 1 1 1 1 1 1 1 1 1 1 1 1 1 1 1 1 1 1 1 1 1 1 1 1 1 1 1 1 1 1 1 1 1 1 1 1 1 1 1 1 1 1 1 1 1 1 1 1 1 1 1 1 1 1 1 1 1 1 1 1 1 1 1 1 1 1 1 1 1 1 1 1 1 1 1 1 1 1 1 1 1 1 1 1 1 1 1 1 1 1 1 1 1 1 1 1 1 1 1 1 1 1 1 1 1 1 1 1 1 1 1 1 1 1 1 1 1 1 1 1 1 1 1 1 1 1 1 1 1 1 1 1 1 1 1 1 1 1 1 1 1 1 1 1 1 1 1 1 1\n",
            "10/06/2023 10:58:32 - INFO - __main__ -   source_mask: 1 1 1 1 1 1 1 1 1 1 1 1 0 0 0 0 0 0 0 0 0 0 0 0 0 0 0 0 0 0 0 0 0 0 0 0 0 0 0 0 0 0 0 0 0 0 0 0 0 0 0 0 0 0 0 0 0 0 0 0 0 0 0 0 0 0 0 0 0 0 0 0 0 0 0 0 0 0 0 0 0 0 0 0 0 0 0 0 0 0 0 0 0 0 0 0 0 0 0 0 0 0 0 0 0 0 0 0 0 0 0 0 0 0 0 0 0 0 0 0 0 0 0 0 0 0 0 0 0 0 0 0 0 0 0 0 0 0 0 0 0 0 0 0 0 0 0 0 0 0 0 0 0 0 0 0 0 0 0 0 0 0 0 0 0 0 0 0 0 0 0 0 0 0 0 0 0 0 0 0 0 0 0 0 0 0 0 0 0 0 0 0 0 0 0 0 0 0 0 0 0 0 0 0 0 0 0 0 0 0 0 0 0 0 0 0 0 0 0 0 0 0 0 0 0 0 0 0 0 0 0 0 0 0 0 0 0 0 0 0 0 0 0 0 0 0 0 0 0 0 0 0 0 0 0 0\n",
            "10/06/2023 10:58:32 - INFO - __main__ -   target_tokens: ['<s>', 'Out', '-', 'Min', 'id', 'ump', '_-', 'Process', '_(', '_Get', '-', 'Process', '_-', 'Id', '_37', '42', '_)', '</s>']\n",
            "10/06/2023 10:58:32 - INFO - __main__ -   target_ids: 0 14944 12 20086 808 7198 111 46202 36 2315 12 46202 111 28081 2908 3714 4839 2 1 1 1 1 1 1 1 1 1 1 1 1 1 1 1 1 1 1 1 1 1 1 1 1 1 1 1 1 1 1 1 1 1 1 1 1 1 1 1 1 1 1 1 1 1 1 1 1 1 1 1 1 1 1 1 1 1 1 1 1 1 1 1 1 1 1 1 1 1 1 1 1 1 1 1 1 1 1 1 1 1 1 1 1 1 1 1 1 1 1 1 1 1 1 1 1 1 1 1 1 1 1 1 1 1 1 1 1 1 1\n",
            "10/06/2023 10:58:32 - INFO - __main__ -   target_mask: 1 1 1 1 1 1 1 1 1 1 1 1 1 1 1 1 1 1 0 0 0 0 0 0 0 0 0 0 0 0 0 0 0 0 0 0 0 0 0 0 0 0 0 0 0 0 0 0 0 0 0 0 0 0 0 0 0 0 0 0 0 0 0 0 0 0 0 0 0 0 0 0 0 0 0 0 0 0 0 0 0 0 0 0 0 0 0 0 0 0 0 0 0 0 0 0 0 0 0 0 0 0 0 0 0 0 0 0 0 0 0 0 0 0 0 0 0 0 0 0 0 0 0 0 0 0 0 0\n",
            "10/06/2023 10:58:32 - INFO - __main__ -   *** Example ***\n",
            "10/06/2023 10:58:32 - INFO - __main__ -   idx: 5\n",
            "10/06/2023 10:58:32 - INFO - __main__ -   source_tokens: ['<s>', 'var', '0', '_execute', '_var', '1', '_script', '_var', '2', '_bypass', 'es', '_execution', '_policy', '_,', '_hides', '_var', '3', '_window', '_,', '_and', '_does', '_not', '_load', '_user', '_profile', '_.', '</s>']\n",
            "10/06/2023 10:58:32 - INFO - __main__ -   source_ids: 0 10806 288 11189 15747 134 8543 15747 176 15037 293 7356 714 2156 35162 15747 246 2931 2156 8 473 45 7511 3018 4392 479 2 1 1 1 1 1 1 1 1 1 1 1 1 1 1 1 1 1 1 1 1 1 1 1 1 1 1 1 1 1 1 1 1 1 1 1 1 1 1 1 1 1 1 1 1 1 1 1 1 1 1 1 1 1 1 1 1 1 1 1 1 1 1 1 1 1 1 1 1 1 1 1 1 1 1 1 1 1 1 1 1 1 1 1 1 1 1 1 1 1 1 1 1 1 1 1 1 1 1 1 1 1 1 1 1 1 1 1 1 1 1 1 1 1 1 1 1 1 1 1 1 1 1 1 1 1 1 1 1 1 1 1 1 1 1 1 1 1 1 1 1 1 1 1 1 1 1 1 1 1 1 1 1 1 1 1 1 1 1 1 1 1 1 1 1 1 1 1 1 1 1 1 1 1 1 1 1 1 1 1 1 1 1 1 1 1 1 1 1 1 1 1 1 1 1 1 1 1 1 1 1 1 1 1 1 1 1 1 1 1 1 1 1 1 1 1 1 1 1 1 1 1 1 1 1 1 1 1 1 1\n",
            "10/06/2023 10:58:32 - INFO - __main__ -   source_mask: 1 1 1 1 1 1 1 1 1 1 1 1 1 1 1 1 1 1 1 1 1 1 1 1 1 1 1 0 0 0 0 0 0 0 0 0 0 0 0 0 0 0 0 0 0 0 0 0 0 0 0 0 0 0 0 0 0 0 0 0 0 0 0 0 0 0 0 0 0 0 0 0 0 0 0 0 0 0 0 0 0 0 0 0 0 0 0 0 0 0 0 0 0 0 0 0 0 0 0 0 0 0 0 0 0 0 0 0 0 0 0 0 0 0 0 0 0 0 0 0 0 0 0 0 0 0 0 0 0 0 0 0 0 0 0 0 0 0 0 0 0 0 0 0 0 0 0 0 0 0 0 0 0 0 0 0 0 0 0 0 0 0 0 0 0 0 0 0 0 0 0 0 0 0 0 0 0 0 0 0 0 0 0 0 0 0 0 0 0 0 0 0 0 0 0 0 0 0 0 0 0 0 0 0 0 0 0 0 0 0 0 0 0 0 0 0 0 0 0 0 0 0 0 0 0 0 0 0 0 0 0 0 0 0 0 0 0 0 0 0 0 0 0 0 0 0 0 0 0 0 0 0 0 0 0 0\n",
            "10/06/2023 10:58:32 - INFO - __main__ -   target_tokens: ['<s>', 'powers', 'hell', '.', 'exe', '_-', 'Exec', 'ution', 'Policy', '_By', 'pass', '_-', 'No', 'Log', 'o', '_-', 'Non', 'Inter', 'active', '_-', 'No', 'Profile', '_-', 'Window', 'Style', '_Hidden', '_-', 'File', '_bad', '_', 'script', '.', 'ps', '1', '</s>']\n",
            "10/06/2023 10:58:32 - INFO - __main__ -   target_ids: 0 24367 20030 4 45911 111 46891 15175 46159 870 10212 111 3084 23345 139 111 33239 26267 12228 111 3084 47555 111 48098 31774 26234 111 9966 1099 1215 32761 4 3275 134 2 1 1 1 1 1 1 1 1 1 1 1 1 1 1 1 1 1 1 1 1 1 1 1 1 1 1 1 1 1 1 1 1 1 1 1 1 1 1 1 1 1 1 1 1 1 1 1 1 1 1 1 1 1 1 1 1 1 1 1 1 1 1 1 1 1 1 1 1 1 1 1 1 1 1 1 1 1 1 1 1 1 1 1 1 1 1 1 1 1 1 1 1 1\n",
            "10/06/2023 10:58:32 - INFO - __main__ -   target_mask: 1 1 1 1 1 1 1 1 1 1 1 1 1 1 1 1 1 1 1 1 1 1 1 1 1 1 1 1 1 1 1 1 1 1 1 0 0 0 0 0 0 0 0 0 0 0 0 0 0 0 0 0 0 0 0 0 0 0 0 0 0 0 0 0 0 0 0 0 0 0 0 0 0 0 0 0 0 0 0 0 0 0 0 0 0 0 0 0 0 0 0 0 0 0 0 0 0 0 0 0 0 0 0 0 0 0 0 0 0 0 0 0 0 0 0 0 0 0 0 0 0 0 0 0 0 0 0 0\n",
            "10/06/2023 10:58:32 - INFO - __main__ -   *** Example ***\n",
            "10/06/2023 10:58:32 - INFO - __main__ -   idx: 6\n",
            "10/06/2023 10:58:32 - INFO - __main__ -   source_tokens: ['<s>', 'var', '0', '_var', '1', '_var', '2', '_var', '3', '_-', '_Pow', 'erv', 'ar', '1', '</s>']\n",
            "10/06/2023 10:58:32 - INFO - __main__ -   source_ids: 0 10806 288 15747 134 15747 176 15747 246 111 25347 8649 271 134 2 1 1 1 1 1 1 1 1 1 1 1 1 1 1 1 1 1 1 1 1 1 1 1 1 1 1 1 1 1 1 1 1 1 1 1 1 1 1 1 1 1 1 1 1 1 1 1 1 1 1 1 1 1 1 1 1 1 1 1 1 1 1 1 1 1 1 1 1 1 1 1 1 1 1 1 1 1 1 1 1 1 1 1 1 1 1 1 1 1 1 1 1 1 1 1 1 1 1 1 1 1 1 1 1 1 1 1 1 1 1 1 1 1 1 1 1 1 1 1 1 1 1 1 1 1 1 1 1 1 1 1 1 1 1 1 1 1 1 1 1 1 1 1 1 1 1 1 1 1 1 1 1 1 1 1 1 1 1 1 1 1 1 1 1 1 1 1 1 1 1 1 1 1 1 1 1 1 1 1 1 1 1 1 1 1 1 1 1 1 1 1 1 1 1 1 1 1 1 1 1 1 1 1 1 1 1 1 1 1 1 1 1 1 1 1 1 1 1 1 1 1 1 1 1 1 1 1 1 1 1 1 1 1 1 1 1 1 1 1 1 1\n",
            "10/06/2023 10:58:32 - INFO - __main__ -   source_mask: 1 1 1 1 1 1 1 1 1 1 1 1 1 1 1 0 0 0 0 0 0 0 0 0 0 0 0 0 0 0 0 0 0 0 0 0 0 0 0 0 0 0 0 0 0 0 0 0 0 0 0 0 0 0 0 0 0 0 0 0 0 0 0 0 0 0 0 0 0 0 0 0 0 0 0 0 0 0 0 0 0 0 0 0 0 0 0 0 0 0 0 0 0 0 0 0 0 0 0 0 0 0 0 0 0 0 0 0 0 0 0 0 0 0 0 0 0 0 0 0 0 0 0 0 0 0 0 0 0 0 0 0 0 0 0 0 0 0 0 0 0 0 0 0 0 0 0 0 0 0 0 0 0 0 0 0 0 0 0 0 0 0 0 0 0 0 0 0 0 0 0 0 0 0 0 0 0 0 0 0 0 0 0 0 0 0 0 0 0 0 0 0 0 0 0 0 0 0 0 0 0 0 0 0 0 0 0 0 0 0 0 0 0 0 0 0 0 0 0 0 0 0 0 0 0 0 0 0 0 0 0 0 0 0 0 0 0 0 0 0 0 0 0 0 0 0 0 0 0 0 0 0 0 0 0 0\n",
            "10/06/2023 10:58:32 - INFO - __main__ -   target_tokens: ['<s>', 'Set', '-', 'Item', 'Property', '_``', '_HK', 'CU', '_:', '_\\\\', 'Software', '\\\\', 'Microsoft', '\\\\', 'Windows', '_NT', '\\\\', 'Current', 'Version', '\\\\', 'Win', 'log', 'on', '\\\\', \"_''\", '_``', '_var', '1', \"_''\", '_``', '_explorer', '.', 'exe', '_,', '_#', '_{', '_binary', '_}', \"_''\", '_-', 'Force', '</s>']\n",
            "10/06/2023 10:58:32 - INFO - __main__ -   target_ids: 0 28512 12 47599 44720 45518 19315 38260 4832 44128 45752 37457 35460 37457 43815 19815 37457 42124 47322 37457 27189 12376 261 37457 12801 45518 15747 134 12801 45518 34593 4 45911 2156 849 25522 32771 35524 12801 111 36832 2 1 1 1 1 1 1 1 1 1 1 1 1 1 1 1 1 1 1 1 1 1 1 1 1 1 1 1 1 1 1 1 1 1 1 1 1 1 1 1 1 1 1 1 1 1 1 1 1 1 1 1 1 1 1 1 1 1 1 1 1 1 1 1 1 1 1 1 1 1 1 1 1 1 1 1 1 1 1 1 1 1 1 1 1 1 1\n",
            "10/06/2023 10:58:32 - INFO - __main__ -   target_mask: 1 1 1 1 1 1 1 1 1 1 1 1 1 1 1 1 1 1 1 1 1 1 1 1 1 1 1 1 1 1 1 1 1 1 1 1 1 1 1 1 1 1 0 0 0 0 0 0 0 0 0 0 0 0 0 0 0 0 0 0 0 0 0 0 0 0 0 0 0 0 0 0 0 0 0 0 0 0 0 0 0 0 0 0 0 0 0 0 0 0 0 0 0 0 0 0 0 0 0 0 0 0 0 0 0 0 0 0 0 0 0 0 0 0 0 0 0 0 0 0 0 0 0 0 0 0 0 0\n",
            "10/06/2023 10:58:32 - INFO - __main__ -   *** Example ***\n",
            "10/06/2023 10:58:32 - INFO - __main__ -   idx: 7\n",
            "10/06/2023 10:58:32 - INFO - __main__ -   source_tokens: ['<s>', 'In', 've', 'igh', \"_'\", 's', '_var', '1', '_relay', '_function', '</s>']\n",
            "10/06/2023 10:58:32 - INFO - __main__ -   source_ids: 0 1121 548 8774 128 29 15747 134 12937 5043 2 1 1 1 1 1 1 1 1 1 1 1 1 1 1 1 1 1 1 1 1 1 1 1 1 1 1 1 1 1 1 1 1 1 1 1 1 1 1 1 1 1 1 1 1 1 1 1 1 1 1 1 1 1 1 1 1 1 1 1 1 1 1 1 1 1 1 1 1 1 1 1 1 1 1 1 1 1 1 1 1 1 1 1 1 1 1 1 1 1 1 1 1 1 1 1 1 1 1 1 1 1 1 1 1 1 1 1 1 1 1 1 1 1 1 1 1 1 1 1 1 1 1 1 1 1 1 1 1 1 1 1 1 1 1 1 1 1 1 1 1 1 1 1 1 1 1 1 1 1 1 1 1 1 1 1 1 1 1 1 1 1 1 1 1 1 1 1 1 1 1 1 1 1 1 1 1 1 1 1 1 1 1 1 1 1 1 1 1 1 1 1 1 1 1 1 1 1 1 1 1 1 1 1 1 1 1 1 1 1 1 1 1 1 1 1 1 1 1 1 1 1 1 1 1 1 1 1 1 1 1 1 1 1 1 1 1 1 1 1 1 1 1 1 1 1\n",
            "10/06/2023 10:58:32 - INFO - __main__ -   source_mask: 1 1 1 1 1 1 1 1 1 1 1 0 0 0 0 0 0 0 0 0 0 0 0 0 0 0 0 0 0 0 0 0 0 0 0 0 0 0 0 0 0 0 0 0 0 0 0 0 0 0 0 0 0 0 0 0 0 0 0 0 0 0 0 0 0 0 0 0 0 0 0 0 0 0 0 0 0 0 0 0 0 0 0 0 0 0 0 0 0 0 0 0 0 0 0 0 0 0 0 0 0 0 0 0 0 0 0 0 0 0 0 0 0 0 0 0 0 0 0 0 0 0 0 0 0 0 0 0 0 0 0 0 0 0 0 0 0 0 0 0 0 0 0 0 0 0 0 0 0 0 0 0 0 0 0 0 0 0 0 0 0 0 0 0 0 0 0 0 0 0 0 0 0 0 0 0 0 0 0 0 0 0 0 0 0 0 0 0 0 0 0 0 0 0 0 0 0 0 0 0 0 0 0 0 0 0 0 0 0 0 0 0 0 0 0 0 0 0 0 0 0 0 0 0 0 0 0 0 0 0 0 0 0 0 0 0 0 0 0 0 0 0 0 0 0 0 0 0 0 0 0 0 0 0 0 0\n",
            "10/06/2023 10:58:32 - INFO - __main__ -   target_tokens: ['<s>', 'Inv', 'oke', '-', 'In', 've', 'igh', '_-', 'HTTP', '_N', '</s>']\n",
            "10/06/2023 10:58:32 - INFO - __main__ -   target_ids: 0 42782 5361 12 1121 548 8774 111 49244 234 2 1 1 1 1 1 1 1 1 1 1 1 1 1 1 1 1 1 1 1 1 1 1 1 1 1 1 1 1 1 1 1 1 1 1 1 1 1 1 1 1 1 1 1 1 1 1 1 1 1 1 1 1 1 1 1 1 1 1 1 1 1 1 1 1 1 1 1 1 1 1 1 1 1 1 1 1 1 1 1 1 1 1 1 1 1 1 1 1 1 1 1 1 1 1 1 1 1 1 1 1 1 1 1 1 1 1 1 1 1 1 1 1 1 1 1 1 1\n",
            "10/06/2023 10:58:32 - INFO - __main__ -   target_mask: 1 1 1 1 1 1 1 1 1 1 1 0 0 0 0 0 0 0 0 0 0 0 0 0 0 0 0 0 0 0 0 0 0 0 0 0 0 0 0 0 0 0 0 0 0 0 0 0 0 0 0 0 0 0 0 0 0 0 0 0 0 0 0 0 0 0 0 0 0 0 0 0 0 0 0 0 0 0 0 0 0 0 0 0 0 0 0 0 0 0 0 0 0 0 0 0 0 0 0 0 0 0 0 0 0 0 0 0 0 0 0 0 0 0 0 0 0 0 0 0 0 0 0 0 0 0 0 0\n",
            "10/06/2023 10:58:32 - INFO - __main__ -   *** Example ***\n",
            "10/06/2023 10:58:32 - INFO - __main__ -   idx: 8\n",
            "10/06/2023 10:58:32 - INFO - __main__ -   source_tokens: ['<s>', 'Enable', '_var', '0', '_var', '1', '_var', '2', '</s>']\n",
            "10/06/2023 10:58:32 - INFO - __main__ -   source_ids: 0 48688 15747 288 15747 134 15747 176 2 1 1 1 1 1 1 1 1 1 1 1 1 1 1 1 1 1 1 1 1 1 1 1 1 1 1 1 1 1 1 1 1 1 1 1 1 1 1 1 1 1 1 1 1 1 1 1 1 1 1 1 1 1 1 1 1 1 1 1 1 1 1 1 1 1 1 1 1 1 1 1 1 1 1 1 1 1 1 1 1 1 1 1 1 1 1 1 1 1 1 1 1 1 1 1 1 1 1 1 1 1 1 1 1 1 1 1 1 1 1 1 1 1 1 1 1 1 1 1 1 1 1 1 1 1 1 1 1 1 1 1 1 1 1 1 1 1 1 1 1 1 1 1 1 1 1 1 1 1 1 1 1 1 1 1 1 1 1 1 1 1 1 1 1 1 1 1 1 1 1 1 1 1 1 1 1 1 1 1 1 1 1 1 1 1 1 1 1 1 1 1 1 1 1 1 1 1 1 1 1 1 1 1 1 1 1 1 1 1 1 1 1 1 1 1 1 1 1 1 1 1 1 1 1 1 1 1 1 1 1 1 1 1 1 1 1 1 1 1 1 1 1 1 1 1 1 1\n",
            "10/06/2023 10:58:32 - INFO - __main__ -   source_mask: 1 1 1 1 1 1 1 1 1 0 0 0 0 0 0 0 0 0 0 0 0 0 0 0 0 0 0 0 0 0 0 0 0 0 0 0 0 0 0 0 0 0 0 0 0 0 0 0 0 0 0 0 0 0 0 0 0 0 0 0 0 0 0 0 0 0 0 0 0 0 0 0 0 0 0 0 0 0 0 0 0 0 0 0 0 0 0 0 0 0 0 0 0 0 0 0 0 0 0 0 0 0 0 0 0 0 0 0 0 0 0 0 0 0 0 0 0 0 0 0 0 0 0 0 0 0 0 0 0 0 0 0 0 0 0 0 0 0 0 0 0 0 0 0 0 0 0 0 0 0 0 0 0 0 0 0 0 0 0 0 0 0 0 0 0 0 0 0 0 0 0 0 0 0 0 0 0 0 0 0 0 0 0 0 0 0 0 0 0 0 0 0 0 0 0 0 0 0 0 0 0 0 0 0 0 0 0 0 0 0 0 0 0 0 0 0 0 0 0 0 0 0 0 0 0 0 0 0 0 0 0 0 0 0 0 0 0 0 0 0 0 0 0 0 0 0 0 0 0 0 0 0 0 0 0 0\n",
            "10/06/2023 10:58:32 - INFO - __main__ -   target_tokens: ['<s>', 'Enable', '_-', '_PS', 'Rem', 'oting', '_-', '_Force', '</s>']\n",
            "10/06/2023 10:58:32 - INFO - __main__ -   target_ids: 0 48688 111 4868 31157 12653 111 3177 2 1 1 1 1 1 1 1 1 1 1 1 1 1 1 1 1 1 1 1 1 1 1 1 1 1 1 1 1 1 1 1 1 1 1 1 1 1 1 1 1 1 1 1 1 1 1 1 1 1 1 1 1 1 1 1 1 1 1 1 1 1 1 1 1 1 1 1 1 1 1 1 1 1 1 1 1 1 1 1 1 1 1 1 1 1 1 1 1 1 1 1 1 1 1 1 1 1 1 1 1 1 1 1 1 1 1 1 1 1 1 1 1 1 1 1 1 1 1 1\n",
            "10/06/2023 10:58:32 - INFO - __main__ -   target_mask: 1 1 1 1 1 1 1 1 1 0 0 0 0 0 0 0 0 0 0 0 0 0 0 0 0 0 0 0 0 0 0 0 0 0 0 0 0 0 0 0 0 0 0 0 0 0 0 0 0 0 0 0 0 0 0 0 0 0 0 0 0 0 0 0 0 0 0 0 0 0 0 0 0 0 0 0 0 0 0 0 0 0 0 0 0 0 0 0 0 0 0 0 0 0 0 0 0 0 0 0 0 0 0 0 0 0 0 0 0 0 0 0 0 0 0 0 0 0 0 0 0 0 0 0 0 0 0 0\n",
            "10/06/2023 10:58:32 - INFO - __main__ -   *** Example ***\n",
            "10/06/2023 10:58:32 - INFO - __main__ -   idx: 9\n",
            "10/06/2023 10:58:32 - INFO - __main__ -   source_tokens: ['<s>', 'Find', '_var', '0', '_var', '1', '</s>']\n",
            "10/06/2023 10:58:32 - INFO - __main__ -   source_ids: 0 38195 15747 288 15747 134 2 1 1 1 1 1 1 1 1 1 1 1 1 1 1 1 1 1 1 1 1 1 1 1 1 1 1 1 1 1 1 1 1 1 1 1 1 1 1 1 1 1 1 1 1 1 1 1 1 1 1 1 1 1 1 1 1 1 1 1 1 1 1 1 1 1 1 1 1 1 1 1 1 1 1 1 1 1 1 1 1 1 1 1 1 1 1 1 1 1 1 1 1 1 1 1 1 1 1 1 1 1 1 1 1 1 1 1 1 1 1 1 1 1 1 1 1 1 1 1 1 1 1 1 1 1 1 1 1 1 1 1 1 1 1 1 1 1 1 1 1 1 1 1 1 1 1 1 1 1 1 1 1 1 1 1 1 1 1 1 1 1 1 1 1 1 1 1 1 1 1 1 1 1 1 1 1 1 1 1 1 1 1 1 1 1 1 1 1 1 1 1 1 1 1 1 1 1 1 1 1 1 1 1 1 1 1 1 1 1 1 1 1 1 1 1 1 1 1 1 1 1 1 1 1 1 1 1 1 1 1 1 1 1 1 1 1 1 1 1 1 1 1 1 1 1 1 1 1 1\n",
            "10/06/2023 10:58:32 - INFO - __main__ -   source_mask: 1 1 1 1 1 1 1 0 0 0 0 0 0 0 0 0 0 0 0 0 0 0 0 0 0 0 0 0 0 0 0 0 0 0 0 0 0 0 0 0 0 0 0 0 0 0 0 0 0 0 0 0 0 0 0 0 0 0 0 0 0 0 0 0 0 0 0 0 0 0 0 0 0 0 0 0 0 0 0 0 0 0 0 0 0 0 0 0 0 0 0 0 0 0 0 0 0 0 0 0 0 0 0 0 0 0 0 0 0 0 0 0 0 0 0 0 0 0 0 0 0 0 0 0 0 0 0 0 0 0 0 0 0 0 0 0 0 0 0 0 0 0 0 0 0 0 0 0 0 0 0 0 0 0 0 0 0 0 0 0 0 0 0 0 0 0 0 0 0 0 0 0 0 0 0 0 0 0 0 0 0 0 0 0 0 0 0 0 0 0 0 0 0 0 0 0 0 0 0 0 0 0 0 0 0 0 0 0 0 0 0 0 0 0 0 0 0 0 0 0 0 0 0 0 0 0 0 0 0 0 0 0 0 0 0 0 0 0 0 0 0 0 0 0 0 0 0 0 0 0 0 0 0 0 0 0\n",
            "10/06/2023 10:58:32 - INFO - __main__ -   target_tokens: ['<s>', '[', '_environment', '_]', '_:', '_:', 'OS', 'Version', '.', 'var', '1', '</s>']\n",
            "10/06/2023 10:58:32 - INFO - __main__ -   target_ids: 0 10975 1737 27779 4832 4832 3196 47322 4 10806 134 2 1 1 1 1 1 1 1 1 1 1 1 1 1 1 1 1 1 1 1 1 1 1 1 1 1 1 1 1 1 1 1 1 1 1 1 1 1 1 1 1 1 1 1 1 1 1 1 1 1 1 1 1 1 1 1 1 1 1 1 1 1 1 1 1 1 1 1 1 1 1 1 1 1 1 1 1 1 1 1 1 1 1 1 1 1 1 1 1 1 1 1 1 1 1 1 1 1 1 1 1 1 1 1 1 1 1 1 1 1 1 1 1 1 1 1 1\n",
            "10/06/2023 10:58:32 - INFO - __main__ -   target_mask: 1 1 1 1 1 1 1 1 1 1 1 1 0 0 0 0 0 0 0 0 0 0 0 0 0 0 0 0 0 0 0 0 0 0 0 0 0 0 0 0 0 0 0 0 0 0 0 0 0 0 0 0 0 0 0 0 0 0 0 0 0 0 0 0 0 0 0 0 0 0 0 0 0 0 0 0 0 0 0 0 0 0 0 0 0 0 0 0 0 0 0 0 0 0 0 0 0 0 0 0 0 0 0 0 0 0 0 0 0 0 0 0 0 0 0 0 0 0 0 0 0 0 0 0 0 0 0 0\n",
            "/usr/local/lib/python3.10/dist-packages/transformers/optimization.py:411: FutureWarning: This implementation of AdamW is deprecated and will be removed in a future version. Use the PyTorch implementation torch.optim.AdamW instead, or set `no_deprecation_warning=True` to disable this warning\n",
            "  warnings.warn(\n",
            "10/06/2023 10:58:33 - INFO - __main__ -   ***** Running training *****\n",
            "10/06/2023 10:58:33 - INFO - __main__ -     Num examples = 681\n",
            "10/06/2023 10:58:33 - INFO - __main__ -     Batch size = 8\n",
            "10/06/2023 10:58:33 - INFO - __main__ -     Num epoch = 32\n",
            "loss 3.669:  11% 318/2800 [02:56<22:36,  1.83it/s] 10/06/2023 11:01:30 - INFO - __main__ -   \n",
            "***** Running evaluation *****\n",
            "10/06/2023 11:01:30 - INFO - __main__ -     Num examples = 85\n",
            "10/06/2023 11:01:30 - INFO - __main__ -     Batch size = 8\n",
            "10/06/2023 11:01:32 - INFO - __main__ -     eval_ppl = 15.29535\n",
            "10/06/2023 11:01:32 - INFO - __main__ -     global_step = 320\n",
            "10/06/2023 11:01:32 - INFO - __main__ -     train_loss = 3.669\n",
            "10/06/2023 11:01:32 - INFO - __main__ -     ********************\n",
            "10/06/2023 11:01:39 - INFO - __main__ -     Best ppl:15.29535\n",
            "10/06/2023 11:01:39 - INFO - __main__ -     ********************\n",
            "2023-10-06 11:01:53.864811: W tensorflow/compiler/tf2tensorrt/utils/py_utils.cc:38] TF-TRT Warning: Could not find TensorRT\n",
            "10/06/2023 11:01:54 - INFO - numexpr.utils -   NumExpr defaulting to 2 threads.\n",
            "Total: 85\n",
            "10/06/2023 11:03:19 - INFO - __main__ -     bleu-4 = 16.14 \n",
            "10/06/2023 11:03:19 - INFO - __main__ -     ********************\n",
            "10/06/2023 11:03:19 - INFO - __main__ -     Best bleu:16.14\n",
            "10/06/2023 11:03:19 - INFO - __main__ -     ********************\n",
            "loss 1.583:  23% 638/2800 [07:42<19:46,  1.82it/s] 10/06/2023 11:06:15 - INFO - __main__ -   \n",
            "***** Running evaluation *****\n",
            "10/06/2023 11:06:15 - INFO - __main__ -     Num examples = 85\n",
            "10/06/2023 11:06:15 - INFO - __main__ -     Batch size = 8\n",
            "10/06/2023 11:06:17 - INFO - __main__ -     eval_ppl = 10.16596\n",
            "10/06/2023 11:06:17 - INFO - __main__ -     global_step = 640\n",
            "10/06/2023 11:06:17 - INFO - __main__ -     train_loss = 1.583\n",
            "10/06/2023 11:06:17 - INFO - __main__ -     ********************\n",
            "10/06/2023 11:06:20 - INFO - __main__ -     Best ppl:10.16596\n",
            "10/06/2023 11:06:20 - INFO - __main__ -     ********************\n",
            "Total: 85\n",
            "10/06/2023 11:08:11 - INFO - __main__ -     bleu-4 = 16.08 \n",
            "10/06/2023 11:08:11 - INFO - __main__ -     ********************\n",
            "loss 0.9302:  34% 958/2800 [12:31<16:46,  1.83it/s]10/06/2023 11:11:05 - INFO - __main__ -   \n",
            "***** Running evaluation *****\n",
            "10/06/2023 11:11:05 - INFO - __main__ -     Num examples = 85\n",
            "10/06/2023 11:11:05 - INFO - __main__ -     Batch size = 8\n",
            "10/06/2023 11:11:06 - INFO - __main__ -     eval_ppl = 8.86069\n",
            "10/06/2023 11:11:06 - INFO - __main__ -     global_step = 960\n",
            "10/06/2023 11:11:06 - INFO - __main__ -     train_loss = 0.9302\n",
            "10/06/2023 11:11:06 - INFO - __main__ -     ********************\n",
            "10/06/2023 11:11:12 - INFO - __main__ -     Best ppl:8.86069\n",
            "10/06/2023 11:11:12 - INFO - __main__ -     ********************\n",
            "Total: 85\n",
            "10/06/2023 11:12:35 - INFO - __main__ -     bleu-4 = 12.86 \n",
            "10/06/2023 11:12:35 - INFO - __main__ -     ********************\n",
            "loss 0.5636:  46% 1278/2800 [16:55<13:54,  1.82it/s]10/06/2023 11:15:29 - INFO - __main__ -   \n",
            "***** Running evaluation *****\n",
            "10/06/2023 11:15:29 - INFO - __main__ -     Num examples = 85\n",
            "10/06/2023 11:15:29 - INFO - __main__ -     Batch size = 8\n",
            "10/06/2023 11:15:31 - INFO - __main__ -     eval_ppl = 8.42057\n",
            "10/06/2023 11:15:31 - INFO - __main__ -     global_step = 1280\n",
            "10/06/2023 11:15:31 - INFO - __main__ -     train_loss = 0.5636\n",
            "10/06/2023 11:15:31 - INFO - __main__ -     ********************\n",
            "10/06/2023 11:15:34 - INFO - __main__ -     Best ppl:8.42057\n",
            "10/06/2023 11:15:34 - INFO - __main__ -     ********************\n",
            "Total: 85\n",
            "10/06/2023 11:16:55 - INFO - __main__ -     bleu-4 = 21.04 \n",
            "10/06/2023 11:16:55 - INFO - __main__ -     ********************\n",
            "10/06/2023 11:16:55 - INFO - __main__ -     Best bleu:21.04\n",
            "10/06/2023 11:16:55 - INFO - __main__ -     ********************\n",
            "loss 0.3587:  57% 1598/2800 [21:18<10:57,  1.83it/s]10/06/2023 11:19:52 - INFO - __main__ -   \n",
            "***** Running evaluation *****\n",
            "10/06/2023 11:19:52 - INFO - __main__ -     Num examples = 85\n",
            "10/06/2023 11:19:52 - INFO - __main__ -     Batch size = 8\n",
            "10/06/2023 11:19:54 - INFO - __main__ -     eval_ppl = 8.38427\n",
            "10/06/2023 11:19:54 - INFO - __main__ -     global_step = 1600\n",
            "10/06/2023 11:19:54 - INFO - __main__ -     train_loss = 0.3587\n",
            "10/06/2023 11:19:54 - INFO - __main__ -     ********************\n",
            "10/06/2023 11:19:57 - INFO - __main__ -     Best ppl:8.38427\n",
            "10/06/2023 11:19:57 - INFO - __main__ -     ********************\n",
            "Total: 85\n",
            "10/06/2023 11:21:15 - INFO - __main__ -     bleu-4 = 28.6 \n",
            "10/06/2023 11:21:15 - INFO - __main__ -     ********************\n",
            "10/06/2023 11:21:15 - INFO - __main__ -     Best bleu:28.6\n",
            "10/06/2023 11:21:15 - INFO - __main__ -     ********************\n",
            "loss 0.2449:  68% 1918/2800 [25:38<08:04,  1.82it/s]10/06/2023 11:24:12 - INFO - __main__ -   \n",
            "***** Running evaluation *****\n",
            "10/06/2023 11:24:12 - INFO - __main__ -     Num examples = 85\n",
            "10/06/2023 11:24:12 - INFO - __main__ -     Batch size = 8\n",
            "10/06/2023 11:24:14 - INFO - __main__ -     eval_ppl = 8.61412\n",
            "10/06/2023 11:24:14 - INFO - __main__ -     global_step = 1920\n",
            "10/06/2023 11:24:14 - INFO - __main__ -     train_loss = 0.2449\n",
            "10/06/2023 11:24:14 - INFO - __main__ -     ********************\n",
            "Total: 85\n",
            "10/06/2023 11:25:29 - INFO - __main__ -     bleu-4 = 27.69 \n",
            "10/06/2023 11:25:29 - INFO - __main__ -     ********************\n",
            "loss 0.1782:  80% 2238/2800 [29:49<04:32,  2.06it/s]10/06/2023 11:28:23 - INFO - __main__ -   \n",
            "***** Running evaluation *****\n",
            "10/06/2023 11:28:23 - INFO - __main__ -     Num examples = 85\n",
            "10/06/2023 11:28:23 - INFO - __main__ -     Batch size = 8\n",
            "10/06/2023 11:28:24 - INFO - __main__ -     eval_ppl = 8.68251\n",
            "10/06/2023 11:28:24 - INFO - __main__ -     global_step = 2240\n",
            "10/06/2023 11:28:24 - INFO - __main__ -     train_loss = 0.1782\n",
            "10/06/2023 11:28:24 - INFO - __main__ -     ********************\n",
            "Total: 85\n",
            "10/06/2023 11:29:38 - INFO - __main__ -     bleu-4 = 30.34 \n",
            "10/06/2023 11:29:38 - INFO - __main__ -     ********************\n",
            "10/06/2023 11:29:38 - INFO - __main__ -     Best bleu:30.34\n",
            "10/06/2023 11:29:38 - INFO - __main__ -     ********************\n",
            "loss 0.1438:  91% 2558/2800 [34:01<02:13,  1.81it/s]10/06/2023 11:32:35 - INFO - __main__ -   \n",
            "***** Running evaluation *****\n",
            "10/06/2023 11:32:35 - INFO - __main__ -     Num examples = 85\n",
            "10/06/2023 11:32:35 - INFO - __main__ -     Batch size = 8\n",
            "10/06/2023 11:32:37 - INFO - __main__ -     eval_ppl = 8.7584\n",
            "10/06/2023 11:32:37 - INFO - __main__ -     global_step = 2560\n",
            "10/06/2023 11:32:37 - INFO - __main__ -     train_loss = 0.1438\n",
            "10/06/2023 11:32:37 - INFO - __main__ -     ********************\n",
            "Total: 85\n",
            "10/06/2023 11:33:54 - INFO - __main__ -     bleu-4 = 29.63 \n",
            "10/06/2023 11:33:54 - INFO - __main__ -     ********************\n",
            "loss 0.1264: 100% 2800/2800 [37:32<00:00,  1.24it/s]\n",
            "10/06/2023 11:36:10 - INFO - __main__ -   Namespace(model_type='roberta', model_name_or_path='roberta-base', tokenizer_name='roberta-base', output_dir='finetuned_model/powershell', load_model_path='finetuned_model/powershell/checkpoint-best-bleu/pytorch_model.bin', train_filename=None, dev_filename='../processed_dataset//powershell-dev.json.seq2seq', test_filename='../processed_dataset//powershell-test.json.seq2seq', config_name='roberta-base', max_source_length=256, max_target_length=128, do_train=False, do_eval=False, do_test=True, do_lower_case=False, no_cuda=False, train_batch_size=8, eval_batch_size=8, gradient_accumulation_steps=1, learning_rate=5e-05, beam_size=10, weight_decay=0.0, adam_epsilon=1e-08, max_grad_norm=1.0, num_train_epochs=3.0, max_steps=-1, eval_steps=-1, train_steps=-1, warmup_steps=0, local_rank=-1, seed=42, nl2code=True)\n",
            "10/06/2023 11:36:10 - WARNING - __main__ -   Process rank: -1, device: cuda, n_gpu: 1, distributed training: False\n",
            "Some weights of RobertaModel were not initialized from the model checkpoint at roberta-base and are newly initialized: ['roberta.pooler.dense.weight', 'roberta.pooler.dense.bias']\n",
            "You should probably TRAIN this model on a down-stream task to be able to use it for predictions and inference.\n",
            "10/06/2023 11:36:16 - INFO - __main__ -   reload model from finetuned_model/powershell/checkpoint-best-bleu/pytorch_model.bin\n",
            "10/06/2023 11:36:18 - INFO - __main__ -   Test file: ../processed_dataset//powershell-dev.json.seq2seq\n",
            "  0% 0/11 [00:00<?, ?it/s]2023-10-06 11:36:29.175644: W tensorflow/compiler/tf2tensorrt/utils/py_utils.cc:38] TF-TRT Warning: Could not find TensorRT\n",
            "10/06/2023 11:36:30 - INFO - numexpr.utils -   NumExpr defaulting to 2 threads.\n",
            "100% 11/11 [01:15<00:00,  6.87s/it]\n",
            "Total: 85\n",
            "10/06/2023 11:37:34 - INFO - __main__ -     bleu-4 = 30.34 \n",
            "10/06/2023 11:37:34 - INFO - __main__ -     ********************\n",
            "10/06/2023 11:37:34 - INFO - __main__ -   Test file: ../processed_dataset//powershell-test.json.seq2seq\n",
            "100% 11/11 [01:11<00:00,  6.49s/it]\n",
            "Total: 85\n",
            "10/06/2023 11:38:46 - INFO - __main__ -     bleu-4 = 31.02 \n",
            "10/06/2023 11:38:46 - INFO - __main__ -     ********************\n",
            "Duration of the experiment  :  00:40:23\n",
            "2023-10-06 11:38:47.415970  finetuning completed!\n",
            "Powershell dataset selected\n",
            "Final Evaluation of EVIL on the powershell testset:\n",
            "2023-10-06 11:38:50.882949: W tensorflow/compiler/tf2tensorrt/utils/py_utils.cc:38] TF-TRT Warning: Could not find TensorRT\n",
            "bleu-1:30.87\n",
            "bleu-2:26.15\n",
            "bleu-3:23.26\n",
            "bleu-4:21.20\n",
            "exact:1.18\n"
          ]
        }
      ]
    },
    {
      "cell_type": "code",
      "source": [
        "!cp /content/EVIL/model/finetuned_model/powershell/checkpoint-best-bleu/pytorch_model.bin  /gdrive/MyDrive/script_tesi_magistrale"
      ],
      "metadata": {
        "id": "zhdz_NYkDfli"
      },
      "execution_count": 13,
      "outputs": []
    },
    {
      "cell_type": "code",
      "source": [
        "!cp /content/EVIL/model/finetuned_model/powershell/* /gdrive/MyDrive/script_tesi_magistrale/eval"
      ],
      "metadata": {
        "colab": {
          "base_uri": "https://localhost:8080/"
        },
        "id": "i7lJdqYeuESc",
        "outputId": "5cc4ee3b-7e1f-46d5-929d-39a0cfc1618b"
      },
      "execution_count": 17,
      "outputs": [
        {
          "output_type": "stream",
          "name": "stdout",
          "text": [
            "cp: -r not specified; omitting directory '/content/EVIL/model/finetuned_model/powershell/checkpoint-best-bleu'\n",
            "cp: -r not specified; omitting directory '/content/EVIL/model/finetuned_model/powershell/checkpoint-best-ppl'\n",
            "cp: -r not specified; omitting directory '/content/EVIL/model/finetuned_model/powershell/checkpoint-last'\n"
          ]
        }
      ]
    },
    {
      "cell_type": "code",
      "source": [
        "!cp /content/EVIL/model/eval/* /gdrive/MyDrive/script_tesi_magistrale/eval"
      ],
      "metadata": {
        "id": "fh3DJp96zgV7"
      },
      "execution_count": 18,
      "outputs": []
    }
  ]
}